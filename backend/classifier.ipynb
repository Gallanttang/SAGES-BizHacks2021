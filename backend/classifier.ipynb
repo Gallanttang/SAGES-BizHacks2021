{
 "cells": [
  {
   "cell_type": "code",
   "execution_count": 1,
   "metadata": {},
   "outputs": [],
   "source": [
    "import pandas as pd\n",
    "\n",
    "\n",
    "from sklearn.pipeline import make_pipeline\n",
    "from sklearn.model_selection import train_test_split\n",
    "from sklearn.dummy import DummyClassifier\n",
    "from sklearn.metrics import plot_confusion_matrix, confusion_matrix, classification_report"
   ]
  },
  {
   "cell_type": "code",
   "execution_count": 32,
   "metadata": {},
   "outputs": [
    {
     "name": "stderr",
     "output_type": "stream",
     "text": [
      "/Users/lin/opt/anaconda3/envs/cpsc330env/lib/python3.8/site-packages/IPython/core/interactiveshell.py:3145: DtypeWarning: Columns (4) have mixed types.Specify dtype option on import or set low_memory=False.\n",
      "  has_raised = await self.run_ast_nodes(code_ast.body, cell_name,\n"
     ]
    }
   ],
   "source": [
    "df = pd.read_csv('amazon_au_marketing.tsv', sep='\\t')"
   ]
  },
  {
   "cell_type": "code",
   "execution_count": 33,
   "metadata": {},
   "outputs": [],
   "source": [
    "to_drop = [\n",
    "    'Dataset Origin', 'Match Rank', 'Match Score', \n",
    "    'Match Type', 'Upc', 'Product Available Inventory', \n",
    "    'Product Url', 'Retailer', 'Product Barcode', \n",
    "    'Product Model Number', 'Product Reviews Count', \n",
    "    'Bsr', 'Joining Key', 'Market', 'Product Currency',\n",
    "    'Sku', 'Uniq Id', 'Crawl Timestamp', 'Product Id',\n",
    "    'Product Company Type Source', 'Product Brand Normalised Source',\n",
    "    'Product Rating', 'Product Price'\n",
    "]\n",
    "\n",
    "# df_cleaned = df.sample(10000).drop(columns=to_drop)\n",
    "df_cleaned = df.drop(columns=to_drop)"
   ]
  },
  {
   "cell_type": "code",
   "execution_count": 34,
   "metadata": {},
   "outputs": [
    {
     "data": {
      "text/plain": [
       "0.28125"
      ]
     },
     "execution_count": 34,
     "metadata": {},
     "output_type": "execute_result"
    }
   ],
   "source": [
    "len(df_cleaned.columns)/len(df.columns)"
   ]
  },
  {
   "cell_type": "code",
   "execution_count": 35,
   "metadata": {},
   "outputs": [
    {
     "data": {
      "text/html": [
       "<div>\n",
       "<style scoped>\n",
       "    .dataframe tbody tr th:only-of-type {\n",
       "        vertical-align: middle;\n",
       "    }\n",
       "\n",
       "    .dataframe tbody tr th {\n",
       "        vertical-align: top;\n",
       "    }\n",
       "\n",
       "    .dataframe thead th {\n",
       "        text-align: right;\n",
       "    }\n",
       "</style>\n",
       "<table border=\"1\" class=\"dataframe\">\n",
       "  <thead>\n",
       "    <tr style=\"text-align: right;\">\n",
       "      <th></th>\n",
       "      <th>Product Brand Source</th>\n",
       "      <th>Product Name Source</th>\n",
       "      <th>Product Category</th>\n",
       "      <th>Product Brand</th>\n",
       "      <th>Product Name</th>\n",
       "      <th>Product Description</th>\n",
       "      <th>Product Image Url</th>\n",
       "      <th>Product Tags</th>\n",
       "      <th>Product Contents</th>\n",
       "    </tr>\n",
       "  </thead>\n",
       "  <tbody>\n",
       "    <tr>\n",
       "      <th>0</th>\n",
       "      <td>Koala Superstore</td>\n",
       "      <td>6-inch Photo Frame Lovely Bear Painted Photof...</td>\n",
       "      <td>Home &gt; Home Décor &gt; Photo Frames</td>\n",
       "      <td>Koala Superstore</td>\n",
       "      <td>6-inch Photo Frame Lovely Bear Painted Photof...</td>\n",
       "      <td>Ships from Hongkong. These picture frames look...</td>\n",
       "      <td>https://images-na.ssl-images-amazon.com/images...</td>\n",
       "      <td>6-inch Photo Frame Lovely Bear Painted Photof...</td>\n",
       "      <td>Size: 14.5*7CM/5.7*2.7inch. Material: Resin. ...</td>\n",
       "    </tr>\n",
       "    <tr>\n",
       "      <th>1</th>\n",
       "      <td>Ambesonne</td>\n",
       "      <td>Ambesonne Tan Throw Pillow Cushion Cover, Str...</td>\n",
       "      <td>Home &gt; Home Textiles &gt; Cushions &amp; Accessories ...</td>\n",
       "      <td>Ambesonne</td>\n",
       "      <td>Ambesonne Tan Throw Pillow Cushion Cover, Str...</td>\n",
       "      <td>Makeover and refresh your rooms with just a si...</td>\n",
       "      <td>https://images-na.ssl-images-amazon.com/images...</td>\n",
       "      <td>Ambesonne Tan Throw Pillow Cushion Cover, Str...</td>\n",
       "      <td>20 INCHES x 20 INCHES - DOUBLE SIDED PRINT - ...</td>\n",
       "    </tr>\n",
       "    <tr>\n",
       "      <th>2</th>\n",
       "      <td>Alien Storehouse</td>\n",
       "      <td>5Pairs Girl Clip-on Earrings Child Pendant Ea...</td>\n",
       "      <td>Home &gt; Bath &gt; Bath Linen</td>\n",
       "      <td>Alien Storehouse</td>\n",
       "      <td>5Pairs Girl Clip-on Earrings Child Pendant Ea...</td>\n",
       "      <td>Ships from Hongkong. Every little girl likes t...</td>\n",
       "      <td>https://images-na.ssl-images-amazon.com/images...</td>\n",
       "      <td>5Pairs Girl Clip-on Earrings Child Pendant Ea...</td>\n",
       "      <td>Material: Safe resin/plastic/rhinestone/other...</td>\n",
       "    </tr>\n",
       "    <tr>\n",
       "      <th>3</th>\n",
       "      <td>CELYCASY</td>\n",
       "      <td>Organic Farm Sign~Rustic Wood Sign~Food Sign~...</td>\n",
       "      <td>Home &gt; Home Décor &gt; Signs &amp; Plaques</td>\n",
       "      <td>CELYCASY</td>\n",
       "      <td>Organic Farm Sign~Rustic Wood Sign~Food Sign~...</td>\n",
       "      <td>This will make you smile every time you look a...</td>\n",
       "      <td>https://images-na.ssl-images-amazon.com/images...</td>\n",
       "      <td>Organic Farm Sign~Rustic Wood Sign~Food Sign~...</td>\n",
       "      <td>Made of Environmentally friendly wood ! Print...</td>\n",
       "    </tr>\n",
       "    <tr>\n",
       "      <th>4</th>\n",
       "      <td>NaN</td>\n",
       "      <td>NaN</td>\n",
       "      <td>Lighting &gt; Indoor Lighting &gt; Children's Lighting</td>\n",
       "      <td>Carl Artbay table lamp</td>\n",
       "      <td>Modern Wrought Iron Base Living Room Bedroom ...</td>\n",
       "      <td>Each lamp is designed and handcrafted by the a...</td>\n",
       "      <td>https://images-na.ssl-images-amazon.com/images...</td>\n",
       "      <td>Modern Wrought Iron Base Living Room Bedroom ...</td>\n",
       "      <td>★Handmade glass lampshade, high quality metal...</td>\n",
       "    </tr>\n",
       "  </tbody>\n",
       "</table>\n",
       "</div>"
      ],
      "text/plain": [
       "  Product Brand Source                                Product Name Source  \\\n",
       "0     Koala Superstore   6-inch Photo Frame Lovely Bear Painted Photof...   \n",
       "1            Ambesonne   Ambesonne Tan Throw Pillow Cushion Cover, Str...   \n",
       "2     Alien Storehouse   5Pairs Girl Clip-on Earrings Child Pendant Ea...   \n",
       "3             CELYCASY   Organic Farm Sign~Rustic Wood Sign~Food Sign~...   \n",
       "4                  NaN                                                NaN   \n",
       "\n",
       "                                    Product Category           Product Brand  \\\n",
       "0                   Home > Home Décor > Photo Frames        Koala Superstore   \n",
       "1  Home > Home Textiles > Cushions & Accessories ...               Ambesonne   \n",
       "2                           Home > Bath > Bath Linen        Alien Storehouse   \n",
       "3                Home > Home Décor > Signs & Plaques                CELYCASY   \n",
       "4   Lighting > Indoor Lighting > Children's Lighting  Carl Artbay table lamp   \n",
       "\n",
       "                                        Product Name  \\\n",
       "0   6-inch Photo Frame Lovely Bear Painted Photof...   \n",
       "1   Ambesonne Tan Throw Pillow Cushion Cover, Str...   \n",
       "2   5Pairs Girl Clip-on Earrings Child Pendant Ea...   \n",
       "3   Organic Farm Sign~Rustic Wood Sign~Food Sign~...   \n",
       "4   Modern Wrought Iron Base Living Room Bedroom ...   \n",
       "\n",
       "                                 Product Description  \\\n",
       "0  Ships from Hongkong. These picture frames look...   \n",
       "1  Makeover and refresh your rooms with just a si...   \n",
       "2  Ships from Hongkong. Every little girl likes t...   \n",
       "3  This will make you smile every time you look a...   \n",
       "4  Each lamp is designed and handcrafted by the a...   \n",
       "\n",
       "                                   Product Image Url  \\\n",
       "0  https://images-na.ssl-images-amazon.com/images...   \n",
       "1  https://images-na.ssl-images-amazon.com/images...   \n",
       "2  https://images-na.ssl-images-amazon.com/images...   \n",
       "3  https://images-na.ssl-images-amazon.com/images...   \n",
       "4  https://images-na.ssl-images-amazon.com/images...   \n",
       "\n",
       "                                        Product Tags  \\\n",
       "0   6-inch Photo Frame Lovely Bear Painted Photof...   \n",
       "1   Ambesonne Tan Throw Pillow Cushion Cover, Str...   \n",
       "2   5Pairs Girl Clip-on Earrings Child Pendant Ea...   \n",
       "3   Organic Farm Sign~Rustic Wood Sign~Food Sign~...   \n",
       "4   Modern Wrought Iron Base Living Room Bedroom ...   \n",
       "\n",
       "                                    Product Contents  \n",
       "0   Size: 14.5*7CM/5.7*2.7inch. Material: Resin. ...  \n",
       "1   20 INCHES x 20 INCHES - DOUBLE SIDED PRINT - ...  \n",
       "2   Material: Safe resin/plastic/rhinestone/other...  \n",
       "3   Made of Environmentally friendly wood ! Print...  \n",
       "4   ★Handmade glass lampshade, high quality metal...  "
      ]
     },
     "execution_count": 35,
     "metadata": {},
     "output_type": "execute_result"
    }
   ],
   "source": [
    "df_cleaned.head()"
   ]
  },
  {
   "cell_type": "code",
   "execution_count": 36,
   "metadata": {},
   "outputs": [
    {
     "data": {
      "text/html": [
       "<div>\n",
       "<style scoped>\n",
       "    .dataframe tbody tr th:only-of-type {\n",
       "        vertical-align: middle;\n",
       "    }\n",
       "\n",
       "    .dataframe tbody tr th {\n",
       "        vertical-align: top;\n",
       "    }\n",
       "\n",
       "    .dataframe thead th {\n",
       "        text-align: right;\n",
       "    }\n",
       "</style>\n",
       "<table border=\"1\" class=\"dataframe\">\n",
       "  <thead>\n",
       "    <tr style=\"text-align: right;\">\n",
       "      <th></th>\n",
       "      <th>Product Brand Source</th>\n",
       "      <th>Product Name Source</th>\n",
       "      <th>Product Category</th>\n",
       "      <th>Product Brand</th>\n",
       "      <th>Product Name</th>\n",
       "      <th>Product Description</th>\n",
       "      <th>Product Image Url</th>\n",
       "      <th>Product Tags</th>\n",
       "      <th>Product Contents</th>\n",
       "    </tr>\n",
       "  </thead>\n",
       "  <tbody>\n",
       "    <tr>\n",
       "      <th>count</th>\n",
       "      <td>24968</td>\n",
       "      <td>25000</td>\n",
       "      <td>29919</td>\n",
       "      <td>29896</td>\n",
       "      <td>30000</td>\n",
       "      <td>29136</td>\n",
       "      <td>30000</td>\n",
       "      <td>30000</td>\n",
       "      <td>29900</td>\n",
       "    </tr>\n",
       "    <tr>\n",
       "      <th>unique</th>\n",
       "      <td>4423</td>\n",
       "      <td>24555</td>\n",
       "      <td>435</td>\n",
       "      <td>5861</td>\n",
       "      <td>29427</td>\n",
       "      <td>16947</td>\n",
       "      <td>29490</td>\n",
       "      <td>29427</td>\n",
       "      <td>16635</td>\n",
       "    </tr>\n",
       "    <tr>\n",
       "      <th>top</th>\n",
       "      <td>Liufengyun</td>\n",
       "      <td>RADANYA Nature Printed Polyester Cushion Cove...</td>\n",
       "      <td>Home &gt; Home Textiles &gt; Cushions &amp; Accessories ...</td>\n",
       "      <td>Liufengyun</td>\n",
       "      <td>RADANYA Nature Printed Polyester Cushion Cove...</td>\n",
       "      <td>Digitally Printed Cushion Cover in Polyester f...</td>\n",
       "      <td>https://images-na.ssl-images-amazon.com/images...</td>\n",
       "      <td>RADANYA Nature Printed Polyester Cushion Cove...</td>\n",
       "      <td></td>\n",
       "    </tr>\n",
       "    <tr>\n",
       "      <th>freq</th>\n",
       "      <td>1283</td>\n",
       "      <td>52</td>\n",
       "      <td>3608</td>\n",
       "      <td>1377</td>\n",
       "      <td>68</td>\n",
       "      <td>711</td>\n",
       "      <td>31</td>\n",
       "      <td>68</td>\n",
       "      <td>805</td>\n",
       "    </tr>\n",
       "  </tbody>\n",
       "</table>\n",
       "</div>"
      ],
      "text/plain": [
       "       Product Brand Source  \\\n",
       "count                 24968   \n",
       "unique                 4423   \n",
       "top              Liufengyun   \n",
       "freq                   1283   \n",
       "\n",
       "                                      Product Name Source  \\\n",
       "count                                               25000   \n",
       "unique                                              24555   \n",
       "top      RADANYA Nature Printed Polyester Cushion Cove...   \n",
       "freq                                                   52   \n",
       "\n",
       "                                         Product Category Product Brand  \\\n",
       "count                                               29919         29896   \n",
       "unique                                                435          5861   \n",
       "top     Home > Home Textiles > Cushions & Accessories ...    Liufengyun   \n",
       "freq                                                 3608          1377   \n",
       "\n",
       "                                             Product Name  \\\n",
       "count                                               30000   \n",
       "unique                                              29427   \n",
       "top      RADANYA Nature Printed Polyester Cushion Cove...   \n",
       "freq                                                   68   \n",
       "\n",
       "                                      Product Description  \\\n",
       "count                                               29136   \n",
       "unique                                              16947   \n",
       "top     Digitally Printed Cushion Cover in Polyester f...   \n",
       "freq                                                  711   \n",
       "\n",
       "                                        Product Image Url  \\\n",
       "count                                               30000   \n",
       "unique                                              29490   \n",
       "top     https://images-na.ssl-images-amazon.com/images...   \n",
       "freq                                                   31   \n",
       "\n",
       "                                             Product Tags Product Contents  \n",
       "count                                               30000            29900  \n",
       "unique                                              29427            16635  \n",
       "top      RADANYA Nature Printed Polyester Cushion Cove...                   \n",
       "freq                                                   68              805  "
      ]
     },
     "execution_count": 36,
     "metadata": {},
     "output_type": "execute_result"
    }
   ],
   "source": [
    "df_cleaned.describe()"
   ]
  },
  {
   "cell_type": "code",
   "execution_count": 37,
   "metadata": {},
   "outputs": [
    {
     "data": {
      "text/plain": [
       "array(['Home > Home Décor > Photo Frames',\n",
       "       'Home > Home Textiles > Cushions & Accessories > Cushion Covers',\n",
       "       'Home > Bath > Bath Linen', 'Home > Home Décor > Signs & Plaques',\n",
       "       \"Lighting > Indoor Lighting > Children's Lighting\",\n",
       "       'Beauty > Tools & Accessories > Makeup Brushes & Tools > Brushes',\n",
       "       'Health, Household & Personal Care > Household & Cleaning > Indoor Insect & Pest Control',\n",
       "       'Home > Furniture > Living Room Furniture > Footstools',\n",
       "       'Home > Home Décor > Doormats',\n",
       "       'Garden > Garden & Patio Furniture > Cushions',\n",
       "       'Home > Home Décor > Seasonal Décor > Stockings & Holders',\n",
       "       'Home Improvement > Hardware > Bathroom Hardware & Installation > Robe & Towel Hooks',\n",
       "       'Home > Home Décor > Mirrors > Wall-Mounted Mirrors',\n",
       "       'Home Improvement > Hardware > Bathroom Hardware & Installation > Towel Bars',\n",
       "       'Home > Bath > Bathroom Accessories > Shower Curtains, Hooks & Liners',\n",
       "       'Home > Bedding & Linen > Pillows > Reading Pillows',\n",
       "       'Home > Arts & Crafts > Furniture, Storage & Transport > Easels',\n",
       "       'Beauty > Manicure & Pedicure > Nail Design > Nail Art Accessories > Stickers & Decals',\n",
       "       'Home > Bedding & Linen > Sheets & Pillowcases > Pillowcases',\n",
       "       'Home > Furniture > Home Bar Furniture',\n",
       "       'Home > Bedding & Linen > Sheets & Pillowcases > Sheet & Pillowcase Sets',\n",
       "       'Home > Bedding & Linen > Duvets & Duvet Covers > Duvet Cover Sets',\n",
       "       'Clothing, Shoes & Accessories > Shoe, Jewellery & Watch Accessories > Jewellery Accessories > Boxes & Organisers > Trays',\n",
       "       'Home > Bedding & Linen > Duvets & Duvet Covers > Duvet Covers',\n",
       "       'Home > Furniture > Living Room Furniture > Tables',\n",
       "       'Beauty > Tools & Accessories > Bags & Cases > Makeup Bags',\n",
       "       'Home > Home Décor > Window Treatments > Blinds',\n",
       "       'Beauty > Tools & Accessories > Makeup Brushes & Tools > Eyes > Eyelash Curlers',\n",
       "       'Home > Bath > Bathroom Accessories > Towel Holders > Towel Racks',\n",
       "       'Garden > Garden & Patio Furniture > Umbrellas & Shade',\n",
       "       'Beauty > Hair Care > Styling Tools > Combs',\n",
       "       'Home > Waste & Recycling', 'Beauty > Makeup > Lips > Lipsticks',\n",
       "       'Beauty > Manicure & Pedicure > Nail Design > Tools > Dotting Tools',\n",
       "       'Home > Home Décor > Window Treatments > Window Films',\n",
       "       'Health, Household & Personal Care > Medical Supplies & Equipment > Braces, Splints & Slings > Socks & Support Hose',\n",
       "       'Clothing, Shoes & Accessories > Shoe, Jewellery & Watch Accessories > Jewellery Accessories > Boxes & Organisers > Boxes',\n",
       "       'Home Improvement > Fireplaces & Gas Stoves',\n",
       "       'Home > Home Décor > Seasonal Décor > Trees',\n",
       "       \"Home > Bedding & Linen > Children's Bedding > Sheets & Pillowcases\",\n",
       "       'Home > Laundry, Steaming & Ironing > Irons, Steamers & Accessories > Ironing Accessories > Lint Shavers',\n",
       "       'Home > Arts & Crafts > Scrapbooking > Cutting Dies',\n",
       "       'Home > Bedding & Linen > Comforters & Sets > Comforter Sets',\n",
       "       'Kitchen & Dining > Kitchen Storage & Organisation > Racks & Holders',\n",
       "       'Home > Home Décor > Curtain & Blind Accessories',\n",
       "       'Home > Religious Items', 'Home > Arts & Crafts > Canvas',\n",
       "       'Home > Household Appliances > Heating, Cooling & Air Quality > Humidifiers',\n",
       "       'Health, Household & Personal Care > Medication & Remedies > Medication > Skin Diseases',\n",
       "       'Home > Home Décor > Seasonal Décor > Bows & Ribbons',\n",
       "       'Baby > Nursing & Feeding > Bottle Feeding > Bottles',\n",
       "       'Home > Furniture > Bedroom Furniture > Bedroom Sets',\n",
       "       'Health, Household & Personal Care > Medication & Remedies > Medication Aids > Pill Cases',\n",
       "       \"Clothing, Shoes & Accessories > Novelty & Special Use > Clothing & Accessories > Erotic Apparel > Women's > Bodystockings & Catsuits\",\n",
       "       'Beauty > Hair Care > Hair Colour',\n",
       "       'Home > Home Décor > Artificial & Dried Flora',\n",
       "       'Home > Arts & Crafts > Drawing > Drawing Media > Markers',\n",
       "       'Home > Storage & Organisation > Clothing & Wardrobe Storage > Shoe Organisers',\n",
       "       nan,\n",
       "       'Health, Household & Personal Care > Medication & Remedies > Foot Care > Toe Straighteners',\n",
       "       'Home > Bedding & Linen > Inflatable Beds, Pillows & Accessories',\n",
       "       'Baby > Nursery > Nursery Decorations > Sleep Soothers',\n",
       "       'Beauty > Manicure & Pedicure > Nail Design > Polishes',\n",
       "       'Home > Home Décor > Decorative Accessories',\n",
       "       'Home > Home Décor > Seasonal Décor > Ornaments',\n",
       "       'Baby > Nursing & Feeding > Tableware > Cutlery',\n",
       "       'Kitchen & Dining > Kitchen Storage & Organisation > Food Storage > Food Carriers',\n",
       "       'Home > Home Textiles > Kitchen Linen > Aprons',\n",
       "       'Home > Arts & Crafts > Scrapbooking > Stamps',\n",
       "       'Home > Arts & Crafts > Painting > Paints',\n",
       "       'Health, Household & Personal Care > Medication & Remedies > Medication > Digestion & Nausea',\n",
       "       'Health, Household & Personal Care > Medication & Remedies > Foot Care > Shoe Pads',\n",
       "       'Home > Arts & Crafts > Furniture, Storage & Transport > Cases, Storage & Transport',\n",
       "       'Home > Furniture > Bedroom Furniture > Mattresses & Box Springs',\n",
       "       'Home > Bath > Bathroom Accessories > Holders & Dispensers > Soap Dishes',\n",
       "       'Beauty > Tools & Accessories > Makeup Brushes & Tools > Mirrors',\n",
       "       'Baby > Nursing & Feeding > Bottle Feeding > Bottle Nipples',\n",
       "       'Clothing, Shoes & Accessories > Luggage & Travel Gear > Accessories > Travel Accessories > Travel Pillows',\n",
       "       'Home > Household Appliances > Heating, Cooling & Air Quality > Fans',\n",
       "       'Home > Storage & Organisation > Home Storage Hooks > Coat Hooks',\n",
       "       'Clothing, Shoes & Accessories > Luggage & Travel Gear > Accessories > Travel Accessories > Toiletry Bags',\n",
       "       'Clothing, Shoes & Accessories > Luggage & Travel Gear > Accessories > Travel Accessories > Luggage Accessories > Luggage Cosmetic Cases',\n",
       "       'Health, Household & Personal Care > Household & Cleaning > Laundry',\n",
       "       'Health, Household & Personal Care > Medical Supplies & Equipment > Mobility & Daily Living Aids > Walking Sticks, Crutches & Accessories',\n",
       "       'Home > Arts & Crafts > Furniture, Storage & Transport',\n",
       "       'Baby > Nappy Changing > Changing Pads & Covers > Portable Changing Pads',\n",
       "       'Garden > Gardening',\n",
       "       \"Clothing, Shoes & Accessories > Novelty & Special Use > Clothing & Accessories > Erotic Apparel > Women's > Lingerie Sets\",\n",
       "       'Baby > Nappy Changing > Nappies > Cloth Nappies',\n",
       "       'Health, Household & Personal Care > Vitamins & Supplements > Vitamins, Minerals & Supplements > Protein Supplements',\n",
       "       'Home > Home Textiles > Cushions & Accessories > Cushions',\n",
       "       'Baby > Nappy Changing > Changing Bags > Backpacks',\n",
       "       'Home Improvement > Safety & Security > Work Safety Equipment & Gear > Hand & Arm Protection',\n",
       "       'Lighting > Indoor Lighting > Lamps',\n",
       "       'Home > Furniture > Dining Room Furniture > Dining Chairs',\n",
       "       'Home > Home Textiles > Kitchen Linen > Dish Cloth & Towels',\n",
       "       'Home > Furniture > Dining Room Furniture > Dining Tables',\n",
       "       'Beauty > Hair Care > Styling Tools > Hairbrushes',\n",
       "       'Home Improvement > Hardware > Bathroom Hardware & Installation > Towel Rings',\n",
       "       'Home > Home Décor > Decorative Accessories > Ornaments',\n",
       "       'Kitchen & Dining > Kitchen Storage & Organisation > Dressing & Spice Dispensers > Salt & Pepper Mill Sets',\n",
       "       'Beauty > Skin Care > Body > Moisturisers > Creams',\n",
       "       'Clothing, Shoes & Accessories > Shoe, Jewellery & Watch Accessories > Shoe Care & Accessories > Insoles > Orthotic',\n",
       "       'Home > Home Décor > Home Fragrance > Incense Holders',\n",
       "       'Health, Household & Personal Care > Medical Supplies & Equipment > Mobility & Daily Living Aids > Bathroom Aids & Safety > Grab Bars',\n",
       "       'Baby > Nursing & Feeding > Bottle Feeding > Bottle Cleaning',\n",
       "       'Beauty > Bath & Body > Bathing Accessories',\n",
       "       'Beauty > Manicure & Pedicure > Nail Design > Tools > Nail Dryers',\n",
       "       'Baby > Baby Care > Skin Care',\n",
       "       'Beauty > Manicure & Pedicure > Tools & Accessories > Electric Manicure Drills & Accessories',\n",
       "       'Home > Laundry, Steaming & Ironing',\n",
       "       'Baby > Nursing & Feeding > Bibs & Burp Cloths > Bibs',\n",
       "       'Beauty > Tools & Accessories > Makeup Brushes & Tools > Face',\n",
       "       'Home > Home Décor > Slipcovers',\n",
       "       'Home > Arts & Crafts > Painting > Paintbrushes',\n",
       "       'Beauty > Manicure & Pedicure > Nail Design > Gel Polishes',\n",
       "       'Beauty > Makeup > Body > Temporary Tattoos',\n",
       "       'Health, Household & Personal Care > Medication & Remedies > Foot Care > Heel Cups',\n",
       "       'Beauty > Hair Care > Hair Care Products > Shampoos',\n",
       "       'Home Improvement > Hardware > Nails, Screws & Fasteners > Picture Hangers',\n",
       "       'Beauty > Skin Care > Body > Scrubs',\n",
       "       'Health, Household & Personal Care > Medication & Remedies > Pain & Fever > Hot & Cold Therapies > Hot & Cold Packs',\n",
       "       'Health, Household & Personal Care > Medication & Remedies > Alternative Therapies > Aromatherapy > Scented Oil Diffusers',\n",
       "       'Home > Bedding & Linen > Pillows > Maternity & Body Pillows',\n",
       "       'Clothing, Shoes & Accessories > Shoe, Jewellery & Watch Accessories > Jewellery Accessories > Boxes & Organisers > Pouches',\n",
       "       'Health, Household & Personal Care > Feminine Hygiene > Sanitary Pads',\n",
       "       'Beauty > Skin Care > Face', 'Beauty > Tools & Accessories',\n",
       "       'Home > Arts & Crafts > Adhesives > Art Glues',\n",
       "       'Baby > Nursing & Feeding > Bibs & Burp Cloths > Burp Cloths',\n",
       "       'Toys & Games > Plush > Plush Pillows',\n",
       "       'Health, Household & Personal Care > Medical Supplies & Equipment > Braces, Splints & Slings > Leg & Foot Supports > Knee Braces',\n",
       "       'Home > Household Cleaning Tools & Vacuums > Steam Cleaners, Steam Mops & Accessories',\n",
       "       'Clothing, Shoes & Accessories > Shoe, Jewellery & Watch Accessories > Shoe Care & Accessories > Insoles',\n",
       "       'Health, Household & Personal Care > Shaving & Hair Removal > Hair Removal > Intense Pulsated Light (IPL)',\n",
       "       'Beauty > Fragrances > Men > Eau de Toilette',\n",
       "       'Home > Furniture > Bedroom Furniture > Beds, Frames & Bases > Headboards',\n",
       "       'Home > Household Appliances > Small Kitchen Appliances > Blenders, Mixers & Food Processors',\n",
       "       'Garden > Garden & Patio Furniture > Hammocks, Swing Chairs & Accessories',\n",
       "       'Beauty > Hair Care > Styling Products > Gels',\n",
       "       'Health, Household & Personal Care > Medication & Remedies > Medication > Muscles, Bones & Joints > Arthritis, Rheumatism & Joint Problems',\n",
       "       'Beauty > Makeup > Body > Tattoo Supplies',\n",
       "       'Health, Household & Personal Care > Dental Care > Toothpastes',\n",
       "       'Home > Furniture > Accent Furniture',\n",
       "       'Clothing, Shoes & Accessories > Luggage & Travel Gear > Accessories > Travel Accessories > Travel Bottles & Containers',\n",
       "       'Home > Artwork > Posters & Prints',\n",
       "       'Home > Home Décor > Window Treatments > Draperies & Curtains > Valances',\n",
       "       'Home > Home Décor > Seasonal Décor > Wreaths & Garlands',\n",
       "       'Beauty > Hair Care > Hair Cutting Tools',\n",
       "       'Medical Supplies & Equipment > Mobility & Daily Living Aids > Wheelchairs, Mobility Scooters & Accessories > Accessories & Parts',\n",
       "       'Beauty > Skin Care > Body > Moisturisers > Oils',\n",
       "       'Beauty > Manicure & Pedicure > Nail Design > Nail Art Accessories > Rhinestones',\n",
       "       \"Clothing, Shoes & Accessories > Novelty & Special Use > Clothing & Accessories > Erotic Apparel > Women's > Costumes\",\n",
       "       'Home > Furniture > Bedroom Furniture > Beds, Frames & Bases > Beds',\n",
       "       'Garden > Gardening > Plant Protection & Pest Control > Repellents',\n",
       "       'Baby > Nursing & Feeding > Bottle Feeding > Bottle Drying Racks',\n",
       "       'Home > Household Appliances > Small Kitchen Appliances > Kitchen Scales',\n",
       "       'Beauty > Skin Care > Face > Treatments > Masks',\n",
       "       'Beauty > Fragrances > Men > Eau de Perfume',\n",
       "       'Health, Household & Personal Care > Shaving & Hair Removal > Hair Removal > Tweezers',\n",
       "       'Home Improvement > Hardware > Bathroom Hardware & Installation > Toilet Paper Holders',\n",
       "       'Health, Household & Personal Care > Shaving & Hair Removal > Trimmers, Clippers & Body Groomers',\n",
       "       'Beauty > Manicure & Pedicure > Nail Design > False Nails & Accessories',\n",
       "       'Pet Supplies > Dogs > Grooming',\n",
       "       'Home > Arts & Crafts > Framing > Matting & Mounting Materials',\n",
       "       'Beauty > Makeup > Face',\n",
       "       'Home > Arts & Crafts > Scrapbooking > Stickers',\n",
       "       'Baby > Baby Care > Baby Grooming > Dental Care',\n",
       "       'Garden > Garden & Patio Furniture > Garden Furniture Sets',\n",
       "       'Health, Household & Personal Care > Household & Cleaning > Tissues, Toilet Paper & Sprays',\n",
       "       'Health, Household & Personal Care > Feminine Hygiene > Tampons',\n",
       "       'Beauty > Makeup > Face > Foundations',\n",
       "       'Baby > Nappy Changing > Nappies > Cloth Nappy Accessories',\n",
       "       'Kitchen & Dining > Kitchen Storage & Organisation > Dressing & Spice Dispensers > Pepper Mills',\n",
       "       'Health, Household & Personal Care > Medical Supplies & Equipment > Braces, Splints & Slings > Leg & Foot Supports > Foot Supports',\n",
       "       'Health, Household & Personal Care > Shaving & Hair Removal > Hair Removal > Epilators & Accessories',\n",
       "       'Home > Household Appliances > Small Kitchen Appliances > Kettles & Hot Water Dispensers',\n",
       "       'Health, Household & Personal Care > Medication & Remedies > Foot Care > Foot Care Utensils > Pumice Stones',\n",
       "       'Home > Bedding & Linen > Sheets & Pillowcases > Flat Sheets',\n",
       "       'Beauty > Tools & Accessories > Skin Care Tools',\n",
       "       'Health, Household & Personal Care > Medical Supplies & Equipment > Braces, Splints & Slings > Back, Neck & Shoulder Supports > Back Braces',\n",
       "       'Health, Household & Personal Care > Dental Care > Toothbrushes & Accessories > Power Toothbrushes & Accessories > Replacement Brush Heads',\n",
       "       'Stationery & Office Products > Office Supplies > Desk Accessories & Storage Products',\n",
       "       'Beauty > Skin Care > Sun Care & Tanning',\n",
       "       'Health, Household & Personal Care > Medical Supplies & Equipment > Mobility & Daily Living Aids > Bathroom Aids & Safety > Bedpans & Urinals',\n",
       "       'Beauty > Fragrances > Women > Eau de Toilette',\n",
       "       'Beauty > Makeup > Face > Powders',\n",
       "       'Home > Furniture > Bathroom Furniture > Cabinets',\n",
       "       'Beauty > Makeup > Lips > Lip Glosses',\n",
       "       'Beauty > Skin Care > Body > Moisturisers > Body Lotions',\n",
       "       'Home > Home Décor > Magnets',\n",
       "       'Health, Household & Personal Care > Medication & Remedies > Medication > Pain & Fever',\n",
       "       'Home > Bath > Bathroom Accessories',\n",
       "       'Clothing, Shoes & Accessories > Women > Clothing > Dresses',\n",
       "       'Baby > Nappy Changing > Changing Pads & Covers > Covers',\n",
       "       'Beauty > Manicure & Pedicure > Nail Design > Nail Art Accessories > Glitters',\n",
       "       'Electronics > Mobile Phones & Communication > Accessories > Mounts & Stands',\n",
       "       'Beauty > Skin Care > Eyes',\n",
       "       'Health, Household & Personal Care > Medication & Remedies > Pain & Fever > Hot & Cold Therapies > Hot Water Bottles',\n",
       "       'Home > Bedding & Linen > Blankets & Quilts > Quilts & Sets > Quilts',\n",
       "       'Home > Household Appliances > Heating, Cooling & Air Quality > Heating',\n",
       "       'Health, Household & Personal Care > Vitamins & Supplements > Nutrition Bars & Drinks > Nutrition Drinks & Shakes',\n",
       "       'Stationery & Office Products > Office Paper Products > Paper',\n",
       "       'Health, Household & Personal Care > Medical Supplies & Equipment > Braces, Splints & Slings > Tape & Supplies',\n",
       "       'Garden > Garden & Patio Furniture > Benches',\n",
       "       'Home > Furniture > Accent Furniture > Ottomans',\n",
       "       'Home > Furniture > Bedroom Furniture > Vanity Benches',\n",
       "       'Clothing, Shoes & Accessories > Uniforms, Work & Safety',\n",
       "       'Home > Arts & Crafts > Scrapbooking > Cutting Mats',\n",
       "       'Home > Home Décor > Window Treatments > Draperies & Curtains > Tiers',\n",
       "       'Home > Home Décor > Mirrors > Tabletop Mirrors',\n",
       "       'Clothing, Shoes & Accessories > Women > Clothing > Nightwear, Lingerie & Underwear > Lingerie & Underwear > Lingerie Sets',\n",
       "       'Electronics > Mobile Phones & Communication > Accessories > Cases & Covers',\n",
       "       'Baby > Baby Care > Hot & Cold Treatments > Hot Water Bottles',\n",
       "       'Health, Household & Personal Care > Sex & Sensuality > Novelty & Games',\n",
       "       'Home > Laundry, Steaming & Ironing > Laundry Bags',\n",
       "       'Beauty > Tools & Accessories > Makeup Brushes & Tools > Eyes > Eyelashes Adhesives',\n",
       "       'Beauty > Hair Care > Hair Care Products > Conditioners',\n",
       "       'Home > Arts & Crafts > Adhesives > Arts & Crafts Tape',\n",
       "       'Baby > Nursing & Feeding > Highchairs, Seats & Accessories',\n",
       "       'Garden > Garden & Patio Furniture > Canopies, Gazebos & Pergolas',\n",
       "       'Toys & Games > Games',\n",
       "       'Health, Household & Personal Care > Medical Supplies & Equipment > Braces, Splints & Slings > Arm, Hand & Finger Supports > Hand & Wrist Braces',\n",
       "       'Health, Household & Personal Care > Medical Supplies & Equipment > Diagnostics & Health Monitors > Bathroom Scales > Digital',\n",
       "       'Health, Household & Personal Care > Medication & Remedies > Foot Care > Foot Cushions & Pads',\n",
       "       'Kitchen & Dining > Kitchen Storage & Organisation > Shopping Bags & Baskets',\n",
       "       'Beauty > Fragrances > Women > Eau de Perfume',\n",
       "       'Clothing, Shoes & Accessories > Luggage & Travel Gear',\n",
       "       'Health, Household & Personal Care > Medical Supplies & Equipment > Mobility & Daily Living Aids > Visual Impairment Aids > Reading Aids & Magnifiers',\n",
       "       'Health, Household & Personal Care > Medication & Remedies > Foot Care > Foot Care Utensils > Rasp Files',\n",
       "       'Home > Arts & Crafts > Furniture, Storage & Transport > Drawing Boards',\n",
       "       \"Clothing, Shoes & Accessories > Novelty & Special Use > Clothing & Accessories > Erotic Apparel > Women's > Nightgowns\",\n",
       "       'Home > Arts & Crafts > Drawing > Art Paper',\n",
       "       'Baby > Nappy Changing > Nappy Pails & Refills',\n",
       "       'Stationery & Office Products > Office Supplies > Filing Products',\n",
       "       'Health, Household & Personal Care > Medication & Remedies > Medication > Cold & Flu',\n",
       "       'Clothing, Shoes & Accessories > Luggage & Travel Gear > Accessories > Travel Accessories > Luggage Accessories > Packing Organisers',\n",
       "       'Clothing, Shoes & Accessories > Uniforms, Work & Safety > Military',\n",
       "       'Home > Arts & Crafts > Furniture, Storage & Transport > Cases, Storage & Transport > Art Tubes',\n",
       "       'Health, Household & Personal Care > Medical Supplies & Equipment > Braces, Splints & Slings > Back, Neck & Shoulder Supports > Lumbar Supports',\n",
       "       'Health, Household & Personal Care > Medication & Remedies > Lice Treatments',\n",
       "       'Garden > Garden & Patio Furniture > Chairs',\n",
       "       'Beauty > Tools & Accessories > Makeup Brushes & Tools > Eyes > Eyeshadow Brushes',\n",
       "       'Stationery & Office Products > Calendars, Planners & Personal Organisers > Wall Calendars',\n",
       "       'Health, Household & Personal Care > Medication & Remedies > Foot Care > Arch Supports',\n",
       "       'Home > Arts & Crafts > Scrapbooking > Scrapbooking Tools',\n",
       "       'Beauty > Bath & Body > Cleansers',\n",
       "       'Baby > Nursing & Feeding > Tableware > Sets',\n",
       "       'Clothing, Shoes & Accessories > Women > Handbags & Shoulder Bags > Cross-Body Handbags',\n",
       "       'Health, Household & Personal Care > Medication & Remedies > Pain & Fever > Hot & Cold Therapies > Electric Heating Pads',\n",
       "       'Health, Household & Personal Care > Medication & Remedies > Foot Care > Corn & Callus Trimmers',\n",
       "       \"Clothing, Shoes & Accessories > Novelty & Special Use > Clothing & Accessories > Erotic Apparel > Women's > Teddies & Bodysuits\",\n",
       "       'Beauty > Bath & Body > Bath Additives',\n",
       "       'Home > Bath > Bathroom Accessories > Holders & Dispensers',\n",
       "       'Beauty > Hair Care > Hair Styling Accessories > Clips & Barrettes',\n",
       "       'Health, Household & Personal Care > Vitamins & Supplements > Sports Supplements > Supplements Shakers',\n",
       "       'Baby > Nursing & Feeding > Tableware > Dishes',\n",
       "       'Computers > Accessories > Portable Computer Accessories > Skin Stickers',\n",
       "       'Garden > Garden & Patio Furniture > Ottomans',\n",
       "       'Baby > Nursing & Feeding > Breastfeeding > Breast Pumps',\n",
       "       'Health, Household & Personal Care > Medical Supplies & Equipment > Braces, Splints & Slings > Back, Neck & Shoulder Supports > Neck',\n",
       "       'Health, Household & Personal Care > Medication & Remedies > Alternative Therapies > Aromatherapy > Scented Oils',\n",
       "       'Health, Household & Personal Care > Medication & Remedies > Foot Care > Wart Removal',\n",
       "       'Beauty > Skin Care > Face > Exfoliators',\n",
       "       'Clothing, Shoes & Accessories > Shoe, Jewellery & Watch Accessories > Shoe Care & Accessories > Insoles > Comfort',\n",
       "       'Home > Laundry, Steaming & Ironing > Irons, Steamers & Accessories',\n",
       "       'Home > Arts & Crafts > Furniture, Storage & Transport > Print Racks',\n",
       "       \"Home > Bedding & Linen > Children's Bedding > Blankets\",\n",
       "       'Health, Household & Personal Care > Medication & Remedies > Alternative Therapies > Aromatherapy > Candles',\n",
       "       'Home > Home Décor > Seasonal Décor', 'Pet Supplies > Dogs',\n",
       "       \"Clothing, Shoes & Accessories > Novelty & Special Use > Clothing & Accessories > Novelty > Women's > Tops & Tees > T-Shirts\",\n",
       "       'Beauty > Skin Care > Hands & Feet',\n",
       "       'Beauty > Skin Care > Face > Treatments > Serums',\n",
       "       'Health, Household & Personal Care > Medication & Remedies > Foot Care > Corn & Callus Cushions',\n",
       "       'Health, Household & Personal Care > Medication & Remedies > Foot Care > Foot Care Utensils > Cutters & Accessories',\n",
       "       'Beauty > Hair Care > Hair Care Products > Deep Conditioners & Treatments',\n",
       "       'Home > Arts & Crafts > Knitting & Crochet > Crochet',\n",
       "       'Baby > Nappy Changing > Changing Bags > Totes',\n",
       "       'Home > Bedding & Linen > Bed Skirts',\n",
       "       'Home > Household Appliances > Heating, Cooling & Air Quality > Air Purifiers',\n",
       "       'Health, Household & Personal Care > Medication & Remedies > Incontinence > Protective Briefs & Underwear',\n",
       "       'Home > Furniture > Bedroom Furniture > Beds, Frames & Bases',\n",
       "       'Beauty > Tools & Accessories > Makeup Brushes & Tools > Eyes',\n",
       "       'Home > Home Décor > Mirrors > Floor & Full Length Mirrors',\n",
       "       'Home > Bedding & Linen > Comforters & Sets > Comforters',\n",
       "       'Health, Household & Personal Care > Medication & Remedies > Medication > Insect & Pest Repellents',\n",
       "       'Health, Household & Personal Care > Feminine Hygiene > Menstrual Cups',\n",
       "       'Health, Household & Personal Care > Dental Care > Mouthwashes',\n",
       "       'Home > Laundry, Steaming & Ironing > Irons, Steamers & Accessories > Ironing Accessories > Ironing Boards',\n",
       "       \"Clothing, Shoes & Accessories > Novelty & Special Use > Clothing & Accessories > Erotic Apparel > Women's > Bustiers & Corsets\",\n",
       "       'Home > Laundry, Steaming & Ironing > Irons, Steamers & Accessories > Irons',\n",
       "       'Beauty > Hair Care > Styling Products > Hair Sprays',\n",
       "       'Beauty > Fragrances > Men > Eau de Cologne',\n",
       "       'Health, Household & Personal Care > Medication & Remedies > Diabetes > Socks & Insoles',\n",
       "       'Baby > Nursing & Feeding > Breastfeeding > Breast Pump Parts',\n",
       "       'Health, Household & Personal Care > Medical Supplies & Equipment > Mobility & Daily Living Aids > Wheelchairs, Mobility Scooters & Accessories > Wheelchairs',\n",
       "       'Health, Household & Personal Care > Medical Supplies & Equipment > Mobility & Daily Living Aids > Bathroom Aids & Safety > Toilet Seats & Commodes',\n",
       "       'Beauty > Makeup > Eyes',\n",
       "       'Beauty > Makeup > Face > Concealers & Correctors',\n",
       "       'Baby > Nappy Changing > Nappies > Disposable Nappies',\n",
       "       'Lighting > Light Bulbs', 'Toys & Games > Plush > Stuffed Animals',\n",
       "       'Clothing, Shoes & Accessories > Luggage & Travel Gear > Accessories > Keyrings & Keychains',\n",
       "       'Beauty > Fragrances > Women > Sets',\n",
       "       'Baby > Baby Care > Wipes & Accessories',\n",
       "       'Health, Household & Personal Care > Medication & Remedies > Medication > Cut & Wound Ointments',\n",
       "       'Beauty > Skin Care > Face > Cleansers',\n",
       "       'Beauty > Hair Care > Hair Care Products',\n",
       "       'Health, Household & Personal Care > Medication & Remedies > Medication > Rubs & Ointments',\n",
       "       'Health, Household & Personal Care > Medication & Remedies > Incontinence > Pads',\n",
       "       'Home > Storage & Organisation > Baskets & Bins',\n",
       "       'Sports, Fitness & Outdoors > Sports Technology > Heart Rate Monitors',\n",
       "       'Baby > Nursing & Feeding > Breastfeeding > Breast Pads',\n",
       "       'Health, Household & Personal Care > Medication & Remedies > First Aid > First Aid Kits > Home & Work',\n",
       "       'Health, Household & Personal Care > Medication & Remedies > Incontinence > Absorbent Pads, Shields & Guards',\n",
       "       'Health, Household & Personal Care > Medical Supplies & Equipment > Braces, Splints & Slings > Leg & Foot Supports > Plantar Fasciitis Braces',\n",
       "       'Health, Household & Personal Care > Medication & Remedies > Medication',\n",
       "       'Health, Household & Personal Care > Shaving & Hair Removal > Post-Treatments',\n",
       "       'Home > Home Décor > Home Fragrance',\n",
       "       'Health, Household & Personal Care > Vitamins & Supplements > Sports Supplements > Pre-Workout',\n",
       "       'Clothing, Shoes & Accessories > Shoe, Jewellery & Watch Accessories > Watch Accessories > Watch Boxes',\n",
       "       'Toys & Games > Arts & Crafts > Craft Kits > Sewing',\n",
       "       'Health, Household & Personal Care > Medication & Remedies > Medication Aids > Pill Crushers & Splitters',\n",
       "       'Sports, Fitness & Outdoors > Camping & Hiking > Camping Furniture > Hammocks',\n",
       "       'Health, Household & Personal Care > Dental Care > Toothbrushes & Accessories > Manual Toothbrushes',\n",
       "       'Beauty > Skin Care > Face > Moisturisers',\n",
       "       'Baby > Nursing & Feeding > Bottle Feeding > Sterilisers',\n",
       "       'Lighting > Indoor Lighting > Ceiling Lighting',\n",
       "       'Home > Household Appliances > Heating, Cooling & Air Quality > Air Conditioners',\n",
       "       'Sports, Fitness & Outdoors > Camping & Hiking > Tent Accessories > Tent Tarps',\n",
       "       'Health, Household & Personal Care > Medical Supplies & Equipment > Mobility & Daily Living Aids > Bathroom Aids & Safety > Bathing Guards',\n",
       "       'Baby > Nursing & Feeding > Bottle Feeding > Warming Bags',\n",
       "       'Health, Household & Personal Care > Medication & Remedies > Sleep & Snoring > Sleep Masks',\n",
       "       'Baby > Baby Care > Health Care > Thermometers',\n",
       "       \"Clothing, Shoes & Accessories > Novelty & Special Use > Clothing & Accessories > Novelty > Women's > Socks & Hosiery\",\n",
       "       'Computers > Accessories > Keyboards, Mice & Input Devices',\n",
       "       'Home > Home Décor > Home Fragrance > Fragrant Room Sprays',\n",
       "       'Beauty > Skin Care > Gift Sets',\n",
       "       'Health, Household & Personal Care > Vitamins & Supplements > Vitamins, Minerals & Supplements > Amino Acids > Creatine',\n",
       "       'Clothing, Shoes & Accessories > Luggage & Travel Gear > Accessories > Travel Accessories > Shoe Bags',\n",
       "       'Lighting > Indoor Lighting > Wall Lighting Fixtures',\n",
       "       'Pet Supplies > Dogs > Houses, Crates & Accessories',\n",
       "       \"Clothing, Shoes & Accessories > Novelty & Special Use > Clothing & Accessories > Erotic Apparel > Men's > Briefs\",\n",
       "       'Home > Bedding & Linen > Blankets & Quilts > Throws',\n",
       "       'Home > Arts & Crafts > Furniture, Storage & Transport > Cases, Storage & Transport > Portfolios',\n",
       "       'Home > Household Appliances > Small Kitchen Appliances > Speciality Appliances > Food Dehydrators',\n",
       "       'Beauty > Makeup > Lips > Lip Liners',\n",
       "       'Home > Furniture > Hallway Furniture > Wall Coat Racks',\n",
       "       'Home Improvement > Kitchen & Bath Fixtures > Bathroom Fixtures > Shower & Bath Taps',\n",
       "       'Home > Arts & Crafts > Knitting & Crochet',\n",
       "       'Clothing, Shoes & Accessories > Women > Jewellery > Rings',\n",
       "       'Beauty > Hair Care > Styling Products > Pomades',\n",
       "       'Health, Household & Personal Care > Medication & Remedies > Pain & Fever > Hot & Cold Therapies > Heat Patches & Wraps',\n",
       "       'Health, Household & Personal Care > Vitamins & Supplements > Vitamins, Minerals & Supplements > Amino Acids > BCAAs',\n",
       "       'Home > Arts & Crafts > Sewing & Fabric > Sewing Machine Parts & Accessories',\n",
       "       'Beauty > Makeup > Eyes > Eyebrow Colours',\n",
       "       'Sports, Fitness & Outdoors > Exercise & Fitness > Clothing > Women',\n",
       "       'Health, Household & Personal Care > Medical Supplies & Equipment > Braces, Splints & Slings > Back, Neck & Shoulder Supports > Shoulder Supports',\n",
       "       'Home > Bedding & Linen > Comforters & Sets',\n",
       "       'Baby > Baby Care > Hot & Cold Treatments > Hot & Cold Packs',\n",
       "       'Automotive > Motorbikes, Accessories & Parts > Accessories > Motorcycle Covers',\n",
       "       'Home > Household Cleaning Tools & Vacuums > Sponges',\n",
       "       'Health, Household & Personal Care > Medical Supplies & Equipment > Diagnostics & Health Monitors > Body Fat & Body Composition Monitors',\n",
       "       'Health, Household & Personal Care > Household & Cleaning > Silica Gels',\n",
       "       'Home > Laundry, Steaming & Ironing > Irons, Steamers & Accessories > Ironing Accessories',\n",
       "       'Beauty > Makeup > Face > Blushes',\n",
       "       'Beauty > Hair Care > Styling Products',\n",
       "       'Health, Household & Personal Care > Medication & Remedies > Eye Care',\n",
       "       'Health, Household & Personal Care > Medical Supplies & Equipment > Mobility & Daily Living Aids > Walkers, Rollators & Accessories',\n",
       "       'Home > Household Appliances > Small Kitchen Appliances > Toasters',\n",
       "       'Stationery & Office Products > Office Supplies > Desk Accessories & Storage Products > Desk Supplies Organisers & Dispensers',\n",
       "       'Sports, Fitness & Outdoors > Camping & Hiking > Personal Care > Insect Repellent',\n",
       "       'Garden > Garden & Patio Furniture > Stools',\n",
       "       'Health, Household & Personal Care > Medication & Remedies > Incontinence > Bedding & Furniture Protection',\n",
       "       'Lighting > Indoor Lighting > Specialty & Decorative Lighting > LED Strips',\n",
       "       'Home > Arts & Crafts > Painting > Airbrush Materials',\n",
       "       'Sports, Fitness & Outdoors > Sports Technology > Activity Trackers',\n",
       "       'Health, Household & Personal Care > Medical Supplies & Equipment > Diagnostics & Health Monitors > Tests',\n",
       "       'Beauty > Bath & Body',\n",
       "       \"Clothing, Shoes & Accessories > Novelty & Special Use > Clothing & Accessories > Erotic Apparel > Women's > Bras\",\n",
       "       'Home > Household Appliances > Small Kitchen Appliances > Speciality Appliances > Grain Mills',\n",
       "       'Home > Artwork > Paintings',\n",
       "       'Home > Home Décor > Candles & Holders',\n",
       "       'Home > Home Textiles > Kitchen Linen > Cloth Napkins',\n",
       "       'Clothing, Shoes & Accessories > Shoe, Jewellery & Watch Accessories > Shoe Care & Accessories > Shoe Brushes',\n",
       "       'Health, Household & Personal Care > Feminine Hygiene > Pantyliners',\n",
       "       'Sports, Fitness & Outdoors > Camping & Hiking > Camping Furniture > Chairs',\n",
       "       'Baby > Baby Care > Baby Grooming > Grooming & Healthcare Kits',\n",
       "       'Home > Home Décor > Home Fragrance > Potpourri',\n",
       "       'Beauty > Tools & Accessories > Bags & Cases',\n",
       "       'Pantry Food & Drinks > Baby Food',\n",
       "       'Clothing, Shoes & Accessories > Women > Clothing > Nightwear, Lingerie & Underwear',\n",
       "       'Health, Household & Personal Care > Medical Supplies & Equipment > Braces, Splints & Slings > Leg & Foot Supports > Calf & Shin Supports',\n",
       "       'Beauty > Makeup > Eyes > Eyeshadows',\n",
       "       'Home Improvement > Power & Hand Tools > Power Tools > Shears',\n",
       "       'Health, Household & Personal Care > Medical Supplies & Equipment > Diagnostics & Health Monitors > Blood Pressure Monitors',\n",
       "       'Health, Household & Personal Care > Wellness > Massage & Relaxation',\n",
       "       \"Home > Bedding & Linen > Children's Bedding > Duvet Covers & Sets > Duvet Covers\",\n",
       "       'Garden > Barbecue & Outdoor Dining > Picnicware',\n",
       "       'CDs & Vinyl > Indie & Alternative > Hardcore & Punk > Punk',\n",
       "       'Home > Furniture > Accent Furniture > Panel Screens',\n",
       "       'Health, Household & Personal Care > Medication & Remedies > Foot Care > Bunion Pads',\n",
       "       'Health, Household & Personal Care > Medical Supplies & Equipment > Mobility & Daily Living Aids',\n",
       "       'Beauty > Fragrances > Women > Eau de Cologne',\n",
       "       \"Clothing, Shoes & Accessories > Novelty & Special Use > Clothing & Accessories > Erotic Apparel > Women's > Baby Dolls, Chemises & Negligees\",\n",
       "       'Home > Arts & Crafts > Framing > Framing Tools',\n",
       "       'Baby > Nursing & Feeding > Sippy Cups',\n",
       "       'Baby > Nursery > Nursery Decorations > Wall Decorations > Wall Stickers',\n",
       "       'Beauty > Makeup > Makeup Sets',\n",
       "       'Home > Bedding & Linen > Duvets & Duvet Covers',\n",
       "       'Garden > Barbecue & Outdoor Dining > Barbecue Accessories > Barbecue Covers',\n",
       "       'Toys & Games > Die-Cast & Toy Vehicles > Toy Vehicles & Accessories > Scaled Models > Vehicles',\n",
       "       'Health, Household & Personal Care > Vitamins & Supplements > Slimming Aids & Weight Loss > Diet Shakes',\n",
       "       'Health, Household & Personal Care > Medication & Remedies > Medication > Menopause',\n",
       "       'Health, Household & Personal Care > Dental Care > Toothbrushes & Accessories > Power Toothbrushes & Accessories > Power Toothbrushes > Sonic',\n",
       "       'Electronics > Wearable Technology > Smartwatch Accessories > Smartwatch Replacement Bands',\n",
       "       'Home > Furniture > Hallway Furniture > Storage Benches',\n",
       "       'Garden > Garden & Patio Furniture > Sunloungers',\n",
       "       'Beauty > Hair Care > Styling Products > Serums',\n",
       "       'Sports, Fitness & Outdoors > Fan Shop',\n",
       "       'Home Improvement > Electrical > Cord Management',\n",
       "       'Baby > Nursing & Feeding > Breastfeeding > Breastmilk Containers',\n",
       "       'Sports, Fitness & Outdoors > Camping & Hiking > Personal Care > Towels',\n",
       "       'Home > Bedding & Linen',\n",
       "       'Health, Household & Personal Care > Medical Supplies & Equipment > Diagnostics & Health Monitors > Accessories',\n",
       "       'Home > Arts & Crafts > Knitting & Crochet > Knitting',\n",
       "       'Beauty > Fragrances > Men > Sets',\n",
       "       'Clothing, Shoes & Accessories > Men > Clothing > Sports & Outdoors > Socks',\n",
       "       'Sports, Fitness & Outdoors > Camping & Hiking',\n",
       "       'Home > Arts & Crafts > Framing > Frame Rulers',\n",
       "       'Clothing, Shoes & Accessories > Women > Clothing > Nightwear, Lingerie & Underwear > Lingerie & Underwear > Bustiers & Corsets',\n",
       "       \"Clothing, Shoes & Accessories > Novelty & Special Use > Clothing & Accessories > Novelty > Men's > Accessories > Keychains\",\n",
       "       \"Clothing, Shoes & Accessories > Novelty & Special Use > Clothing & Accessories > Erotic Apparel > Men's > G-Strings & Thongs\",\n",
       "       'Baby > Nursing & Feeding > Food Storage',\n",
       "       'Home > Home Décor > Home Fragrance > Reed Diffusers, Oils & Accessories'],\n",
       "      dtype=object)"
      ]
     },
     "execution_count": 37,
     "metadata": {},
     "output_type": "execute_result"
    }
   ],
   "source": [
    "df['Product Category'].unique()"
   ]
  },
  {
   "cell_type": "code",
   "execution_count": 38,
   "metadata": {},
   "outputs": [
    {
     "name": "stdout",
     "output_type": "stream",
     "text": [
      "['Home > Home Textiles > Cushions & Accessories > Cushion Covers']\n"
     ]
    }
   ],
   "source": [
    "print(df['Product Category'].value_counts()[:1].index.tolist())"
   ]
  },
  {
   "cell_type": "code",
   "execution_count": 39,
   "metadata": {},
   "outputs": [],
   "source": [
    "len(df['Product Category'].unique())\n",
    "del df"
   ]
  },
  {
   "cell_type": "code",
   "execution_count": 40,
   "metadata": {},
   "outputs": [],
   "source": [
    "df_train, df_test = train_test_split(df_cleaned, random_state=123)\n",
    "len(df_train)/len(df_test)\n",
    "del df_cleaned"
   ]
  },
  {
   "cell_type": "code",
   "execution_count": 41,
   "metadata": {},
   "outputs": [
    {
     "data": {
      "text/plain": [
       "Index(['Product Brand Source', 'Product Name Source', 'Product Category',\n",
       "       'Product Brand', 'Product Name', 'Product Description',\n",
       "       'Product Image Url', 'Product Tags', 'Product Contents'],\n",
       "      dtype='object')"
      ]
     },
     "execution_count": 41,
     "metadata": {},
     "output_type": "execute_result"
    }
   ],
   "source": [
    "word = 'Home > Home Textiles > Cushions & Accessories > Cushion Covers'\n",
    "df_train.columns"
   ]
  },
  {
   "cell_type": "code",
   "execution_count": 42,
   "metadata": {
    "scrolled": true
   },
   "outputs": [
    {
     "name": "stdout",
     "output_type": "stream",
     "text": [
      "3.0\n"
     ]
    }
   ],
   "source": [
    "df_train.dropna(axis=0, subset=['Product Image Url'], inplace=True)\n",
    "df_test.dropna(axis=0, subset=['Product Image Url'], inplace=True)\n",
    "\n",
    "print(len(df_train)/len(df_test))\n",
    "\n",
    "# image_train = df_train['Product Image Url']\n",
    "x_train = df_train.drop(columns=['Product Category', 'Product Image Url'])\n",
    "y_train = df_train['Product Category'] == word\n",
    "\n",
    "# image_test = df_test['Product Image Url']\n",
    "x_test = df_test.drop(columns=['Product Category', 'Product Image Url'])\n",
    "y_test = df_test['Product Category'] == word\n",
    "\n",
    "x_train['corpus'] = x_train.apply(\n",
    "    lambda x: ','.join(x.dropna().astype(str)),\n",
    "    axis=1\n",
    ")\n",
    "x_train = x_train['corpus']\n",
    "\n",
    "x_test['corpus'] = x_test.apply(\n",
    "    lambda x: ','.join(x.dropna().astype(str)),\n",
    "    axis=1\n",
    ")\n",
    "x_test = x_test['corpus']\n",
    "\n",
    "del df_train\n",
    "del df_test"
   ]
  },
  {
   "cell_type": "code",
   "execution_count": 43,
   "metadata": {
    "scrolled": true
   },
   "outputs": [
    {
     "data": {
      "text/plain": [
       "'Vistaric, Peace Dove Bird Cookie Cutter Gift Decorating Tool Biscuit Jelly Fondant Mold Tools for Christmas Birthday Party Wedding Holiday ,Vistaric, Peace Dove Bird Cookie Cutter Gift Decorating Tool Biscuit Jelly Fondant Mold Tools for Christmas Birthday Party Wedding Holiday ,Type: Cake Tools, Feature: Stocked,Eco-Friendly, Certification: FDA,SGS, Model Number: 20-42, Brand Name: FACEMILE, Cake Tools Type: Moulds, Material: Stainless Steel, Unit Type: piece, Package Weight: , Package Size:, Peace Dove Bird Cookie Cutter Gift Decorating Tool Biscuit Jelly Fondant Mold Tools for Christmas Birthday Party Wedding Holiday , Item package Quantity:1 Peace Dove Bird Cookie Cutter Gift Decorating Tool Biscuit Jelly Fondant Mold Tools for Christmas Birthday Party Wedding Holiday we ship internationally Easy to store Loading EDP related metadata '"
      ]
     },
     "execution_count": 43,
     "metadata": {},
     "output_type": "execute_result"
    }
   ],
   "source": [
    "x_train.head().iloc[0]"
   ]
  },
  {
   "cell_type": "code",
   "execution_count": 44,
   "metadata": {},
   "outputs": [],
   "source": [
    "from sklearn.linear_model import LogisticRegression\n",
    "from sklearn.feature_extraction.text import CountVectorizer"
   ]
  },
  {
   "cell_type": "code",
   "execution_count": 45,
   "metadata": {},
   "outputs": [],
   "source": [
    "from sklearn.model_selection import train_test_split, cross_validate, cross_val_score"
   ]
  },
  {
   "cell_type": "code",
   "execution_count": 46,
   "metadata": {},
   "outputs": [
    {
     "data": {
      "text/plain": [
       "0.8768888888888889"
      ]
     },
     "execution_count": 46,
     "metadata": {},
     "output_type": "execute_result"
    }
   ],
   "source": [
    "dc = DummyClassifier(strategy='prior')\n",
    "dc.fit(x_train, y_train)\n",
    "dc.score(x_train, y_train)"
   ]
  },
  {
   "cell_type": "code",
   "execution_count": 48,
   "metadata": {
    "scrolled": true
   },
   "outputs": [
    {
     "data": {
      "text/plain": [
       "0.8882666666666666"
      ]
     },
     "execution_count": 48,
     "metadata": {},
     "output_type": "execute_result"
    }
   ],
   "source": [
    "dc.score(x_test, y_test)"
   ]
  },
  {
   "cell_type": "code",
   "execution_count": 49,
   "metadata": {},
   "outputs": [
    {
     "data": {
      "text/plain": [
       "<sklearn.metrics._plot.confusion_matrix.ConfusionMatrixDisplay at 0x7f84ccd63b20>"
      ]
     },
     "execution_count": 49,
     "metadata": {},
     "output_type": "execute_result"
    },
    {
     "data": {
      "image/png": "[encoded data removed]",
      "text/plain": [
       "<Figure size 432x288 with 2 Axes>"
      ]
     },
     "metadata": {
      "needs_background": "light"
     },
     "output_type": "display_data"
    }
   ],
   "source": [
    "plot_confusion_matrix(dc, x_train, y_train)"
   ]
  },
  {
   "cell_type": "code",
   "execution_count": 50,
   "metadata": {},
   "outputs": [],
   "source": [
    "countvec = CountVectorizer(stop_words='english', max_features=1500)"
   ]
  },
  {
   "cell_type": "code",
   "execution_count": 54,
   "metadata": {},
   "outputs": [],
   "source": [
    "from sklearn.ensemble import RandomForestClassifier"
   ]
  },
  {
   "cell_type": "code",
   "execution_count": 55,
   "metadata": {},
   "outputs": [],
   "source": [
    "def cross_validate_std(*args, **kwargs):\n",
    "    \"\"\"Like cross_validate, except also gives the standard deviation of the score\"\"\"\n",
    "    res = pd.DataFrame(cross_validate(*args, **kwargs))\n",
    "    res_mean = res.mean()\n",
    "\n",
    "    res_mean[\"std_test_score\"] = res[\"test_score\"].std()\n",
    "    if \"train_score\" in res:\n",
    "        res_mean[\"std_train_score\"] = res[\"train_score\"].std()\n",
    "    return res_mean"
   ]
  },
  {
   "cell_type": "code",
   "execution_count": 56,
   "metadata": {},
   "outputs": [
    {
     "data": {
      "text/plain": [
       "fit_time           6.822630\n",
       "score_time         0.757763\n",
       "test_score         0.985393\n",
       "train_score        0.999639\n",
       "std_test_score     0.004891\n",
       "std_train_score    0.000202\n",
       "dtype: float64"
      ]
     },
     "execution_count": 56,
     "metadata": {},
     "output_type": "execute_result"
    }
   ],
   "source": [
    "pipe = make_pipeline(countvec, RandomForestClassifier())\n",
    "\n",
    "cross_validate_std(pipe, x_train, y_train, return_train_score=True, cv=5, scoring='precision')"
   ]
  },
  {
   "cell_type": "code",
   "execution_count": 62,
   "metadata": {
    "scrolled": true
   },
   "outputs": [
    {
     "data": {
      "text/plain": [
       "<sklearn.metrics._plot.confusion_matrix.ConfusionMatrixDisplay at 0x7f8404719070>"
      ]
     },
     "execution_count": 62,
     "metadata": {},
     "output_type": "execute_result"
    },
    {
     "data": {
      "image/png": "[encoded data removed]",
      "text/plain": [
       "<Figure size 432x288 with 2 Axes>"
      ]
     },
     "metadata": {
      "needs_background": "light"
     },
     "output_type": "display_data"
    }
   ],
   "source": [
    "pipe.fit(x_train, y_train)\n",
    "plot_confusion_matrix(pipe, x_test, y_test)"
   ]
  },
  {
   "cell_type": "code",
   "execution_count": 65,
   "metadata": {},
   "outputs": [
    {
     "data": {
      "text/plain": [
       "0.9534606205250596"
      ]
     },
     "execution_count": 65,
     "metadata": {},
     "output_type": "execute_result"
    }
   ],
   "source": [
    "799/(799+39)"
   ]
  },
  {
   "cell_type": "code",
   "execution_count": 63,
   "metadata": {},
   "outputs": [
    {
     "name": "stdout",
     "output_type": "stream",
     "text": [
      "              precision    recall  f1-score   support\n",
      "\n",
      "       False       0.99      1.00      1.00      6662\n",
      "        True       0.99      0.95      0.97       838\n",
      "\n",
      "    accuracy                           0.99      7500\n",
      "   macro avg       0.99      0.98      0.98      7500\n",
      "weighted avg       0.99      0.99      0.99      7500\n",
      "\n"
     ]
    }
   ],
   "source": [
    "print(classification_report(y_test, pipe.predict(x_test)))"
   ]
  },
  {
   "cell_type": "code",
   "execution_count": 24,
   "metadata": {},
   "outputs": [],
   "source": [
    "import spacy\n",
    "nlp = spacy.load(\"en_core_web_md\")"
   ]
  },
  {
   "cell_type": "code",
   "execution_count": 26,
   "metadata": {},
   "outputs": [],
   "source": [
    "x_train = pd.DataFrame([sms.vector for sms in nlp.pipe(x_train)])\n",
    "x_test  = pd.DataFrame([sms.vector for sms in nlp.pipe(x_test)])"
   ]
  },
  {
   "cell_type": "code",
   "execution_count": 27,
   "metadata": {},
   "outputs": [
    {
     "data": {
      "text/plain": [
       "(7500, 300)"
      ]
     },
     "execution_count": 27,
     "metadata": {},
     "output_type": "execute_result"
    }
   ],
   "source": [
    "x_train.shape"
   ]
  },
  {
   "cell_type": "code",
   "execution_count": 28,
   "metadata": {},
   "outputs": [],
   "source": [
    "lr = LogisticRegression()"
   ]
  },
  {
   "cell_type": "code",
   "execution_count": 29,
   "metadata": {},
   "outputs": [
    {
     "name": "stderr",
     "output_type": "stream",
     "text": [
      "/Users/lin/opt/anaconda3/envs/cpsc330env/lib/python3.8/site-packages/sklearn/linear_model/_logistic.py:762: ConvergenceWarning: lbfgs failed to converge (status=1):\n",
      "STOP: TOTAL NO. of ITERATIONS REACHED LIMIT.\n",
      "\n",
      "Increase the number of iterations (max_iter) or scale the data as shown in:\n",
      "    https://scikit-learn.org/stable/modules/preprocessing.html\n",
      "Please also refer to the documentation for alternative solver options:\n",
      "    https://scikit-learn.org/stable/modules/linear_model.html#logistic-regression\n",
      "  n_iter_i = _check_optimize_result(\n",
      "/Users/lin/opt/anaconda3/envs/cpsc330env/lib/python3.8/site-packages/sklearn/linear_model/_logistic.py:762: ConvergenceWarning: lbfgs failed to converge (status=1):\n",
      "STOP: TOTAL NO. of ITERATIONS REACHED LIMIT.\n",
      "\n",
      "Increase the number of iterations (max_iter) or scale the data as shown in:\n",
      "    https://scikit-learn.org/stable/modules/preprocessing.html\n",
      "Please also refer to the documentation for alternative solver options:\n",
      "    https://scikit-learn.org/stable/modules/linear_model.html#logistic-regression\n",
      "  n_iter_i = _check_optimize_result(\n"
     ]
    },
    {
     "data": {
      "text/plain": [
       "fit_time           0.220221\n",
       "score_time         0.006050\n",
       "test_score         0.950133\n",
       "train_score        0.953500\n",
       "std_test_score     0.005383\n",
       "std_train_score    0.002055\n",
       "dtype: float64"
      ]
     },
     "execution_count": 29,
     "metadata": {},
     "output_type": "execute_result"
    }
   ],
   "source": [
    "cross_validate_std(lr, x_train, y_train, return_train_score=True)"
   ]
  },
  {
   "cell_type": "code",
   "execution_count": 30,
   "metadata": {},
   "outputs": [
    {
     "name": "stderr",
     "output_type": "stream",
     "text": [
      "/Users/lin/opt/anaconda3/envs/cpsc330env/lib/python3.8/site-packages/sklearn/linear_model/_logistic.py:762: ConvergenceWarning: lbfgs failed to converge (status=1):\n",
      "STOP: TOTAL NO. of ITERATIONS REACHED LIMIT.\n",
      "\n",
      "Increase the number of iterations (max_iter) or scale the data as shown in:\n",
      "    https://scikit-learn.org/stable/modules/preprocessing.html\n",
      "Please also refer to the documentation for alternative solver options:\n",
      "    https://scikit-learn.org/stable/modules/linear_model.html#logistic-regression\n",
      "  n_iter_i = _check_optimize_result(\n"
     ]
    },
    {
     "data": {
      "text/plain": [
       "<sklearn.metrics._plot.confusion_matrix.ConfusionMatrixDisplay at 0x7f84ccd637f0>"
      ]
     },
     "execution_count": 30,
     "metadata": {},
     "output_type": "execute_result"
    },
    {
     "data": {
      "image/png": "[encoded data removed]",
      "text/plain": [
       "<Figure size 432x288 with 2 Axes>"
      ]
     },
     "metadata": {
      "needs_background": "light"
     },
     "output_type": "display_data"
    }
   ],
   "source": [
    "lr.fit(x_train, y_train)\n",
    "plot_confusion_matrix(lr, x_test, y_test)"
   ]
  },
  {
   "cell_type": "code",
   "execution_count": null,
   "metadata": {},
   "outputs": [],
   "source": []
  },
  {
   "cell_type": "code",
   "execution_count": null,
   "metadata": {},
   "outputs": [],
   "source": []
  },
  {
   "cell_type": "code",
   "execution_count": null,
   "metadata": {},
   "outputs": [],
   "source": [
    "# from tensorflow.keras.datasets import mnist\n",
    "# from tensorflow.keras.layers import Dense, Dropout, Flatten, Activation, Conv2D, MaxPooling2D, GlobalAveragePooling2D\n",
    "# from tensorflow.keras.models import Sequential, Model, load_model\n",
    "# from tensorflow.keras.preprocessing.image import img_to_array, load_img\n",
    "# from tensorflow.keras import utils\n",
    "# from tensorflow.keras.applications.inception_v3 import InceptionV3\n",
    "# from tensorflow.keras.applications.resnet50 import ResNet50, preprocess_input, decode_predictions"
   ]
  }
 ],
 "metadata": {
  "kernelspec": {
   "display_name": "Python 3",
   "language": "python",
   "name": "python3"
  },
  "language_info": {
   "codemirror_mode": {
    "name": "ipython",
    "version": 3
   },
   "file_extension": ".py",
   "mimetype": "text/x-python",
   "name": "python",
   "nbconvert_exporter": "python",
   "pygments_lexer": "ipython3",
   "version": "3.8.5"
  }
 },
 "nbformat": 4,
 "nbformat_minor": 4
}
